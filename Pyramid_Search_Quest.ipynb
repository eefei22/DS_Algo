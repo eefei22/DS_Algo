{
  "nbformat": 4,
  "nbformat_minor": 0,
  "metadata": {
    "colab": {
      "provenance": []
    },
    "kernelspec": {
      "name": "python3",
      "display_name": "Python 3"
    },
    "language_info": {
      "name": "python"
    }
  },
  "cells": [
    {
      "cell_type": "code",
      "source": [
        "from collections import deque\n",
        "\n",
        "# Adjacency list representing the chambers and their connections\n",
        "adjacency_list = {\n",
        "    1: [2, 6],\n",
        "    2: [1, 3],\n",
        "    3: [2, 8],\n",
        "    4: [5],\n",
        "    5: [4, 10],\n",
        "    6: [1, 11],\n",
        "    7: [8, 12],\n",
        "    8: [3, 7, 9, 13],\n",
        "    9: [8, 10],\n",
        "    10: [5, 9, 15],\n",
        "    11: [6, 12],\n",
        "    12: [7, 11, 17],\n",
        "    13: [8, 18],\n",
        "    14: [19],\n",
        "    15: [10, 20],\n",
        "    16: [17, 21],\n",
        "    17: [12, 16, 22],\n",
        "    18: [13, 23],\n",
        "    19: [14, 20],\n",
        "    20: [15, 19],\n",
        "    21: [16],\n",
        "    22: [17],\n",
        "    23: [18, 24],\n",
        "    24: [23, 25],\n",
        "    25: [24]\n",
        "}\n",
        "\n",
        "# Depth-First Search (DFS)\n",
        "def dfs(chamber, visited, graph, sequence):\n",
        "    visited.add(chamber)\n",
        "    sequence.append(chamber)\n",
        "    for neighbor in graph[chamber]:\n",
        "        if neighbor not in visited:\n",
        "            dfs(neighbor, visited, graph, sequence)\n",
        "\n",
        "def run_dfs(start_chamber, graph):\n",
        "    visited = set()\n",
        "    sequence = []\n",
        "    dfs(start_chamber, visited, graph, sequence)\n",
        "    return sequence\n",
        "\n",
        "# Breadth-First Search (BFS)\n",
        "def bfs(start_chamber, graph):\n",
        "    visited = set()\n",
        "    queue = deque([start_chamber])\n",
        "    sequence = [start_chamber]\n",
        "    visited.add(start_chamber)\n",
        "\n",
        "    while queue:\n",
        "        chamber = queue.popleft()\n",
        "        for neighbor in graph[chamber]:\n",
        "            if neighbor not in visited:\n",
        "                visited.add(neighbor)\n",
        "                queue.append(neighbor)\n",
        "                sequence.append(neighbor)\n",
        "\n",
        "    return sequence\n",
        "\n",
        "# Backtracking\n",
        "def backtracking(graph, current, visited, sequence):\n",
        "    visited.add(current)\n",
        "    sequence.append(current)\n",
        "    for neighbor in graph[current]:\n",
        "        if neighbor not in visited:\n",
        "            backtracking(graph, neighbor, visited, sequence)\n",
        "\n",
        "def run_backtracking(start_chamber, graph):\n",
        "    visited = set()\n",
        "    sequence = []\n",
        "    backtracking(graph, start_chamber, visited, sequence)\n",
        "    return sequence\n",
        "\n",
        "# Run all algorithms and print results\n",
        "start_chamber = 1\n",
        "\n",
        "# Run DFS\n",
        "dfs_sequence = run_dfs(start_chamber, adjacency_list)\n",
        "print(\"DFS visited chambers sequence:\", dfs_sequence)\n",
        "\n",
        "# Run BFS\n",
        "bfs_sequence = bfs(start_chamber, adjacency_list)\n",
        "print(\"BFS visited chambers sequence:\", bfs_sequence)\n",
        "\n",
        "# Run Backtracking\n",
        "bt_sequence = run_backtracking(start_chamber, adjacency_list)\n",
        "print(\"Backtracking visited chambers sequence:\", bt_sequence)\n"
      ],
      "metadata": {
        "id": "WC3WWfutahLM",
        "colab": {
          "base_uri": "https://localhost:8080/"
        },
        "outputId": "f5d506a5-3215-4921-b322-75982adb35ab"
      },
      "execution_count": 1,
      "outputs": [
        {
          "output_type": "stream",
          "name": "stdout",
          "text": [
            "DFS visited chambers sequence: [1, 2, 3, 8, 7, 12, 11, 6, 17, 16, 21, 22, 9, 10, 5, 4, 15, 20, 19, 14, 13, 18, 23, 24, 25]\n",
            "BFS visited chambers sequence: [1, 2, 6, 3, 11, 8, 12, 7, 9, 13, 17, 10, 18, 16, 22, 5, 15, 23, 21, 4, 20, 24, 19, 25, 14]\n",
            "Backtracking visited chambers sequence: [1, 2, 3, 8, 7, 12, 11, 6, 17, 16, 21, 22, 9, 10, 5, 4, 15, 20, 19, 14, 13, 18, 23, 24, 25]\n"
          ]
        }
      ]
    }
  ]
}