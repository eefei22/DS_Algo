{
  "nbformat": 4,
  "nbformat_minor": 0,
  "metadata": {
    "colab": {
      "provenance": []
    },
    "kernelspec": {
      "name": "python3",
      "display_name": "Python 3"
    },
    "language_info": {
      "name": "python"
    }
  },
  "cells": [
    {
      "cell_type": "code",
      "source": [
        "islands = [\n",
        "    {\"name\": \"North\", \"land_condition\": \"Swamp area\", \"wild_animals\": \"Full of wild animals\", \"villages\": False},\n",
        "    {\"name\": \"South\", \"land_condition\": \"Mountains and caves\", \"wild_animals\": \"Some wild animals\", \"villages\": False},\n",
        "    {\"name\": \"East\", \"land_condition\": \"Thick woods and a lake\", \"wild_animals\": \"Full of wild animals\", \"villages\": False},\n",
        "    {\"name\": \"West\", \"land_condition\": \"Sandy flat land\", \"wild_animals\": \"Small but poisonous animals\", \"villages\": False},\n",
        "    {\"name\": \"Middle\", \"land_condition\": \"Inhabited with villages and agriculture area\", \"wild_animals\": \"No wild animals\", \"villages\": True}\n",
        "]\n",
        "\n",
        "weights = {\n",
        "    \"safety\": 0.5,\n",
        "    \"land_condition\": 0.3,\n",
        "    \"village_presence\": 0.2\n",
        "}\n",
        "\n",
        "def determine_safety_score(island):\n",
        "    if island[\"wild_animals\"] == \"No wild animals\":\n",
        "        return 1.0\n",
        "    elif island[\"wild_animals\"] == \"Small but poisonous animals\":\n",
        "        return 0.7\n",
        "    elif island[\"wild_animals\"] == \"Some wild animals\":\n",
        "        return 0.3\n",
        "    elif island[\"wild_animals\"] == \"Full of wild animals\":\n",
        "        return 0.0\n",
        "\n",
        "def determine_land_condition_score(island):\n",
        "    if island[\"land_condition\"] == \"Inhabited with villages and agriculture area\":\n",
        "        return 1.0\n",
        "    elif island[\"land_condition\"] == \"Sandy flat land\":\n",
        "        return 0.8\n",
        "    elif island[\"land_condition\"] == \"Thick woods and a lake\":\n",
        "        return 0.6\n",
        "    elif island[\"land_condition\"] == \"Mountains and caves\":\n",
        "        return 0.4\n",
        "    elif island[\"land_condition\"] == \"Swamp area\":\n",
        "        return 0.2\n",
        "\n",
        "def determine_village_presence_score(island):\n",
        "    return 1.0 if island[\"villages\"] else 0.0\n",
        "\n",
        "def calculate_score(island):\n",
        "    safety_score = determine_safety_score(island)\n",
        "    land_condition_score = determine_land_condition_score(island)\n",
        "    village_presence_score = determine_village_presence_score(island)\n",
        "    total_score = (safety_score * weights[\"safety\"] +\n",
        "                   land_condition_score * weights[\"land_condition\"] +\n",
        "                   village_presence_score * weights[\"village_presence\"])\n",
        "    return total_score\n",
        "\n",
        "def determine_danger_level(score):\n",
        "    if score >= 0.75:\n",
        "        return \"Very Safe\"\n",
        "    elif score >= 0.5:\n",
        "        return \"Safe\"\n",
        "    else:\n",
        "        return \"Unsafe\"\n",
        "\n",
        "island_scores = []\n",
        "for island in islands:\n",
        "    score = calculate_score(island)\n",
        "    danger_level = determine_danger_level(score)\n",
        "    island_scores.append((island[\"name\"], score, danger_level))\n",
        "\n",
        "island_scores.sort(key=lambda x: x[1], reverse=True)\n",
        "\n",
        "for name, score, danger_level in island_scores:\n",
        "    print(f\"{name} Island:\\nSafety Score: {score:.2f}\\nDanger Level: {danger_level}\\n\")\n",
        "\n",
        "best_island = island_scores[0][0]\n",
        "print(f\"The best island to search is: {best_island} Island\")"
      ],
      "metadata": {
        "id": "WC3WWfutahLM",
        "colab": {
          "base_uri": "https://localhost:8080/"
        },
        "outputId": "bd7e095f-7e7e-4fbe-f82c-724bef91e1db"
      },
      "execution_count": 6,
      "outputs": [
        {
          "output_type": "stream",
          "name": "stdout",
          "text": [
            "Middle Island:\n",
            "Safety Score: 1.00\n",
            "Danger Level: Very Safe\n",
            "\n",
            "West Island:\n",
            "Safety Score: 0.59\n",
            "Danger Level: Safe\n",
            "\n",
            "South Island:\n",
            "Safety Score: 0.27\n",
            "Danger Level: Unsafe\n",
            "\n",
            "East Island:\n",
            "Safety Score: 0.18\n",
            "Danger Level: Unsafe\n",
            "\n",
            "North Island:\n",
            "Safety Score: 0.06\n",
            "Danger Level: Unsafe\n",
            "\n",
            "The best island to search is: Middle Island\n"
          ]
        }
      ]
    }
  ]
}