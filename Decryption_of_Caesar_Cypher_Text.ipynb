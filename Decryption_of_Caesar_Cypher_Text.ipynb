{
  "nbformat": 4,
  "nbformat_minor": 0,
  "metadata": {
    "colab": {
      "provenance": []
    },
    "kernelspec": {
      "name": "python3",
      "display_name": "Python 3"
    },
    "language_info": {
      "name": "python"
    }
  },
  "cells": [
    {
      "cell_type": "code",
      "source": [
        "def decrypt_caesar_cipher(ciphertext, shift):\n",
        "    print(\"Decrypting ciphertext with shift:\", shift)\n",
        "    plaintext = \"\"\n",
        "    for char in ciphertext:\n",
        "        if char.isalpha():\n",
        "            ascii_offset = ord('A') if char.isupper() else ord('a')\n",
        "            original_char = char\n",
        "            shifted_char = chr((ord(char) - ascii_offset - shift) % 26 + ascii_offset)\n",
        "            print(f\"Original character: {original_char}, Shifted character: {shifted_char}\")\n",
        "            plaintext += shifted_char\n",
        "        else:\n",
        "            plaintext += char\n",
        "    return plaintext\n",
        "\n",
        "ciphertext = \"Wkh vwdwxh lv exuulhg xqghu d wuhh pdunhg zlwk a rq Foxvwhu Lvodqg\"\n",
        "shift = 3\n",
        "print(\"Original ciphertext:\", ciphertext)\n",
        "decrypted_text = decrypt_caesar_cipher(ciphertext, shift)\n",
        "print(\"Decrypted text:\", decrypted_text)\n"
      ],
      "metadata": {
        "id": "WC3WWfutahLM",
        "colab": {
          "base_uri": "https://localhost:8080/"
        },
        "outputId": "a08da09d-2953-4443-9132-de98287a650b"
      },
      "execution_count": 5,
      "outputs": [
        {
          "output_type": "stream",
          "name": "stdout",
          "text": [
            "Original ciphertext: Wkh vwdwxh lv exuulhg xqghu d wuhh pdunhg zlwk a rq Foxvwhu Lvodqg\n",
            "Decrypting ciphertext with shift: 3\n",
            "Original character: W, Shifted character: T\n",
            "Original character: k, Shifted character: h\n",
            "Original character: h, Shifted character: e\n",
            "Original character: v, Shifted character: s\n",
            "Original character: w, Shifted character: t\n",
            "Original character: d, Shifted character: a\n",
            "Original character: w, Shifted character: t\n",
            "Original character: x, Shifted character: u\n",
            "Original character: h, Shifted character: e\n",
            "Original character: l, Shifted character: i\n",
            "Original character: v, Shifted character: s\n",
            "Original character: e, Shifted character: b\n",
            "Original character: x, Shifted character: u\n",
            "Original character: u, Shifted character: r\n",
            "Original character: u, Shifted character: r\n",
            "Original character: l, Shifted character: i\n",
            "Original character: h, Shifted character: e\n",
            "Original character: g, Shifted character: d\n",
            "Original character: x, Shifted character: u\n",
            "Original character: q, Shifted character: n\n",
            "Original character: g, Shifted character: d\n",
            "Original character: h, Shifted character: e\n",
            "Original character: u, Shifted character: r\n",
            "Original character: d, Shifted character: a\n",
            "Original character: w, Shifted character: t\n",
            "Original character: u, Shifted character: r\n",
            "Original character: h, Shifted character: e\n",
            "Original character: h, Shifted character: e\n",
            "Original character: p, Shifted character: m\n",
            "Original character: d, Shifted character: a\n",
            "Original character: u, Shifted character: r\n",
            "Original character: n, Shifted character: k\n",
            "Original character: h, Shifted character: e\n",
            "Original character: g, Shifted character: d\n",
            "Original character: z, Shifted character: w\n",
            "Original character: l, Shifted character: i\n",
            "Original character: w, Shifted character: t\n",
            "Original character: k, Shifted character: h\n",
            "Original character: a, Shifted character: x\n",
            "Original character: r, Shifted character: o\n",
            "Original character: q, Shifted character: n\n",
            "Original character: F, Shifted character: C\n",
            "Original character: o, Shifted character: l\n",
            "Original character: x, Shifted character: u\n",
            "Original character: v, Shifted character: s\n",
            "Original character: w, Shifted character: t\n",
            "Original character: h, Shifted character: e\n",
            "Original character: u, Shifted character: r\n",
            "Original character: L, Shifted character: I\n",
            "Original character: v, Shifted character: s\n",
            "Original character: o, Shifted character: l\n",
            "Original character: d, Shifted character: a\n",
            "Original character: q, Shifted character: n\n",
            "Original character: g, Shifted character: d\n",
            "Decrypted text: The statue is burried under a tree marked with x on Cluster Island\n"
          ]
        }
      ]
    }
  ]
}