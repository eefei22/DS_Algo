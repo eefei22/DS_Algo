{
  "nbformat": 4,
  "nbformat_minor": 0,
  "metadata": {
    "colab": {
      "provenance": []
    },
    "kernelspec": {
      "name": "python3",
      "display_name": "Python 3"
    },
    "language_info": {
      "name": "python"
    }
  },
  "cells": [
    {
      "cell_type": "code",
      "source": [
        "class TreasureItem:\n",
        "    def __init__(self, name, value, weight):\n",
        "        self.name = name\n",
        "        self.value = value\n",
        "        self.weight = weight\n",
        "\n",
        "\n",
        "def select_items(items, max_weight):\n",
        "    # Sort items by value in descending order\n",
        "    items.sort(key=lambda x: x.value, reverse=True)\n",
        "\n",
        "    bag_weight = 0\n",
        "    selected_items = []\n",
        "\n",
        "    for item in items:\n",
        "        if bag_weight + item.weight <= max_weight:\n",
        "            selected_items.append(item)\n",
        "            bag_weight += item.weight\n",
        "\n",
        "    return selected_items, bag_weight\n",
        "\n",
        "\n",
        "# Sample usage\n",
        "items = [\n",
        "    TreasureItem(\"Sceptre of Eternal Power\", float('inf'), 5),\n",
        "    TreasureItem(\"The Eye of Horus Pendant\", 2000000, 0.5),\n",
        "    TreasureItem(\"The Ankh of Immortality\", 5000000, 1.5),\n",
        "    TreasureItem(\"The Scarab Amulet of Fortune\", 1500000, 0.2),\n",
        "    TreasureItem(\"The Golden Mask of Osiris\", 10000000, 2),\n",
        "    TreasureItem(\"The Crown of the Pharaohs\", 15000000, 3),\n",
        "    TreasureItem(\"The Emerald Scarab of Transformation\", 3000000, 2)\n",
        "]\n",
        "\n",
        "max_weight = 10\n",
        "selected_items, bag_weight = select_items(items, max_weight)\n",
        "\n",
        "# Output the selected items\n",
        "print(\"Selected items:\")\n",
        "for item in selected_items:\n",
        "    print(\"Item:\", item.name, \"| Value:\", item.value, \"| Weight:\", item.weight)\n",
        "\n",
        "# Total value and weight of selected items\n",
        "total_value = sum(item.value for item in selected_items)\n",
        "print(\"\\nTotal Value of Selected Items:\", total_value)\n",
        "print(\"Total Weight of Selected Items:\", bag_weight)\n",
        "\n",
        "# Remaining weight capacity of the bag\n",
        "remaining_capacity = max_weight - bag_weight\n",
        "print(\"Remaining Weight Capacity of the Bag:\", remaining_capacity)\n",
        "\n",
        "# Check if the bag is fully loaded\n",
        "if remaining_capacity == 0:\n",
        "    print(\"The bag is fully loaded.\")\n",
        "else:\n",
        "    print(\"The bag is not fully loaded. You can still add more items.\")"
      ],
      "metadata": {
        "id": "WC3WWfutahLM",
        "colab": {
          "base_uri": "https://localhost:8080/"
        },
        "outputId": "75d39d0a-0d66-4a73-f2cd-b7d0e964ac36"
      },
      "execution_count": 3,
      "outputs": [
        {
          "output_type": "stream",
          "name": "stdout",
          "text": [
            "Selected items:\n",
            "Item: Sceptre of Eternal Power | Value: inf | Weight: 5\n",
            "Item: The Crown of the Pharaohs | Value: 15000000 | Weight: 3\n",
            "Item: The Golden Mask of Osiris | Value: 10000000 | Weight: 2\n",
            "\n",
            "Total Value of Selected Items: inf\n",
            "Total Weight of Selected Items: 10\n",
            "Remaining Weight Capacity of the Bag: 0\n",
            "The bag is fully loaded.\n"
          ]
        }
      ]
    }
  ]
}